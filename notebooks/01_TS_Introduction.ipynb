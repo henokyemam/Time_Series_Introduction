{
 "cells": [
  {
   "cell_type": "markdown",
   "metadata": {},
   "source": [
    "### What is TIME SERIES Data\n",
    "* Sequentially ordered data over time\n",
    "* Observations are typically collected at regular intervals eg every second/min/hr, daily or monthly\n",
    "* Major assumption is the past behavior will continue in the future\n",
    "* Eg: Monthly sales data, quaterly/annual revenue, hrly weather data/wind speed, IOT sensors in industries and smart devices, energy forecasting."
   ]
  },
  {
   "cell_type": "markdown",
   "metadata": {},
   "source": [
    "### Key Concepts\n",
    "* Trends\n",
    "* Seasonality\n",
    "* Cyclic\n",
    "* Stationary"
   ]
  },
  {
   "cell_type": "markdown",
   "metadata": {},
   "source": [
    "### TRENDS\n",
    "* A trend exisit when there is a long-term increase or decrease\n",
    "![alt text](../images/trends.png \"Title\")\n",
    "* The image shows an increasing trend and seasonality. "
   ]
  },
  {
   "cell_type": "markdown",
   "metadata": {},
   "source": [
    "# Seasonality\n",
    "* Seasonality is fixed meaning a regular fixed pattern shows up in the data\n",
    "* Eg: Holiday season sales (Peak sales in Nov every year)\n",
    "![alt text](../images/seasonality.gif \"Title\")\n",
    "* Additive Seasonality: the magnitude of the seasonal fluctuation is almost constant meaning there is little variation. \n",
    "* Multiplicative Seasonality: the magnitude of the seasonal fluctuation is not constant meaning there is bigger variation eg increasing year to year sales. \n",
    "\n"
   ]
  },
  {
   "cell_type": "markdown",
   "metadata": {},
   "source": [
    "### STATIONARY\n",
    "* Mean is constant\n",
    "* Standard Deviation is constant\n",
    "* No Seasonality/Trends\n",
    "![alt text](../images/stationarity.png)"
   ]
  },
  {
   "cell_type": "markdown",
   "metadata": {},
   "source": [
    "### THINGS TO REMEMBER\n",
    "* Time series can be irregularly spaced\n",
    "* External factors can contribute to target variable and needs to be factored in \n",
    "* Time series is mostly data analysis\n",
    "* Understanding Seasonality and Cyclic can be confusing\n",
    "* Be careful with missing information"
   ]
  },
  {
   "cell_type": "code",
   "execution_count": null,
   "metadata": {},
   "outputs": [],
   "source": []
  }
 ],
 "metadata": {
  "kernelspec": {
   "display_name": "Python [conda env:experiment]",
   "language": "python",
   "name": "conda-env-experiment-py"
  },
  "language_info": {
   "codemirror_mode": {
    "name": "ipython",
    "version": 3
   },
   "file_extension": ".py",
   "mimetype": "text/x-python",
   "name": "python",
   "nbconvert_exporter": "python",
   "pygments_lexer": "ipython3",
   "version": "3.6.6"
  }
 },
 "nbformat": 4,
 "nbformat_minor": 4
}
